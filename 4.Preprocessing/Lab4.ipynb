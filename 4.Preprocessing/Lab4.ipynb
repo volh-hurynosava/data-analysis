{
 "cells": [
  {
   "cell_type": "code",
   "execution_count": 1,
   "metadata": {},
   "outputs": [],
   "source": [
    "import pandas as pd\n",
    "import numpy as np\n",
    "import seaborn as sns\n",
    "import matplotlib.pyplot as plt\n",
    "train = pd.read_csv('train.csv')\n",
    "test = pd.read_csv('test_x.csv')\n",
    "\n",
    "Y_train = train['per_square_meter_price']\n",
    "train = train.drop(columns = ['per_square_meter_price'],axis = 1)"
   ]
  },
  {
   "cell_type": "code",
   "execution_count": 2,
   "metadata": {},
   "outputs": [],
   "source": [
    "#Заполнение пропусков\n",
    "train['floor'] = train['floor'].fillna(0)\n",
    "test['floor'] = test['floor'].fillna(0)\n",
    "train['street'] = train['street'].fillna('0')\n",
    "test['street'] = test['street'].fillna('0')\n",
    "train['osm_city_nearest_population'] = train['osm_city_nearest_population'].fillna(0)\n",
    "test['osm_city_nearest_population'] = test['osm_city_nearest_population'].fillna(0)\n",
    "\n",
    "train_fil = train[['reform_house_population_1000','reform_house_population_500','reform_mean_floor_count_1000','reform_mean_floor_count_500','reform_mean_year_building_1000','reform_mean_year_building_500']]\n",
    "train_fil = train_fil.fillna(train_fil.mean())\n",
    "test_fil = test[['reform_house_population_1000','reform_house_population_500','reform_mean_floor_count_1000','reform_mean_floor_count_500','reform_mean_year_building_1000','reform_mean_year_building_500']]\n",
    "test_fil = test_fil.fillna(test_fil.mean())\n",
    "train[['reform_house_population_1000','reform_house_population_500','reform_mean_floor_count_1000','reform_mean_floor_count_500','reform_mean_year_building_1000','reform_mean_year_building_500']] = train_fil\n",
    "test[['reform_house_population_1000','reform_house_population_500','reform_mean_floor_count_1000','reform_mean_floor_count_500','reform_mean_year_building_1000','reform_mean_year_building_500']] = test_fil"
   ]
  },
  {
   "cell_type": "code",
   "execution_count": 3,
   "metadata": {},
   "outputs": [],
   "source": [
    "#Работа со столбцом street, убираю столбцы date,city,id\n",
    "train['street'] = train['street'].replace(to_replace ='S', value = '', regex = True)\n",
    "test['street'] = test['street'].replace(to_replace ='S', value = '', regex = True)\n",
    "train['street'] = train['street'].astype(int)\n",
    "test['street'] = test['street'].astype(int)\n",
    "\n",
    "train = train.drop(columns = ['date'],axis = 1)\n",
    "train = train.drop(columns = ['id'],axis = 1)\n",
    "train = train.drop(columns = ['city'],axis = 1)\n",
    "\n",
    "test = test.drop(columns = ['date'],axis = 1)\n",
    "test = test.drop(columns = ['id'],axis = 1)\n",
    "test = test.drop(columns = ['city'],axis = 1)"
   ]
  },
  {
   "cell_type": "code",
   "execution_count": 4,
   "metadata": {},
   "outputs": [],
   "source": [
    "#Работа с object\n",
    "train_cat = train[['region']]\n",
    "train_cat = train_cat.merge(pd.get_dummies(train_cat.region, drop_first=True), left_index=True, right_index=True)\n",
    "train_cat.drop('region', axis = 1, inplace=True)\n",
    "\n",
    "test_cat = test[['region']]\n",
    "test_cat = test_cat.merge(pd.get_dummies(test_cat.region, drop_first=True), left_index=True, right_index=True)\n",
    "test_cat.drop('region', axis = 1, inplace=True)\n",
    "\n"
   ]
  },
  {
   "cell_type": "code",
   "execution_count": 5,
   "metadata": {},
   "outputs": [],
   "source": [
    "#Работа с числовыми столбцами\n",
    "train_numeric = train.drop(['region','osm_city_nearest_name'], axis = 1)\n",
    "train_numeric_cols = train_numeric.columns\n",
    "test_numeric = test.drop(['region','osm_city_nearest_name'], axis = 1)\n",
    "test_numeric_cols = test_numeric.columns\n",
    "\n",
    "from sklearn.preprocessing import StandardScaler\n",
    "from scipy import stats\n",
    "ss = StandardScaler()\n",
    "train_numeric = pd.DataFrame(ss.fit_transform(train_numeric))\n",
    "train_numeric.columns = train_numeric_cols\n",
    "test_numeric = pd.DataFrame(ss.fit_transform(test_numeric))\n",
    "test_numeric.columns = test_numeric_cols"
   ]
  },
  {
   "cell_type": "code",
   "execution_count": 6,
   "metadata": {},
   "outputs": [],
   "source": [
    "#Слить таблицы\n",
    "train = pd.merge(train_numeric, train_cat, left_index = True, right_index = True)\n",
    "test = pd.merge( test_numeric, test_cat, left_index = True, right_index = True)\n"
   ]
  },
  {
   "cell_type": "code",
   "execution_count": 7,
   "metadata": {},
   "outputs": [
    {
     "name": "stdout",
     "output_type": "stream",
     "text": [
      "Index(['lng', 'osm_amenity_points_in_0.001', 'osm_amenity_points_in_0.005',\n",
      "       'osm_amenity_points_in_0.0075', 'osm_amenity_points_in_0.01',\n",
      "       'osm_catering_points_in_0.001', 'osm_catering_points_in_0.005',\n",
      "       'osm_catering_points_in_0.0075', 'osm_catering_points_in_0.01',\n",
      "       'osm_city_nearest_population', 'osm_crossing_points_in_0.005',\n",
      "       'osm_crossing_points_in_0.0075', 'osm_crossing_points_in_0.01',\n",
      "       'osm_culture_points_in_0.005', 'osm_culture_points_in_0.0075',\n",
      "       'osm_culture_points_in_0.01', 'osm_finance_points_in_0.005',\n",
      "       'osm_finance_points_in_0.0075', 'osm_finance_points_in_0.01',\n",
      "       'osm_healthcare_points_in_0.005', 'osm_healthcare_points_in_0.0075',\n",
      "       'osm_healthcare_points_in_0.01', 'osm_historic_points_in_0.005',\n",
      "       'osm_historic_points_in_0.0075', 'osm_historic_points_in_0.01',\n",
      "       'osm_hotels_points_in_0.005', 'osm_hotels_points_in_0.0075',\n",
      "       'osm_hotels_points_in_0.01', 'osm_leisure_points_in_0.005',\n",
      "       'osm_leisure_points_in_0.0075', 'osm_leisure_points_in_0.01',\n",
      "       'osm_offices_points_in_0.001', 'osm_offices_points_in_0.005',\n",
      "       'osm_offices_points_in_0.0075', 'osm_offices_points_in_0.01',\n",
      "       'osm_shops_points_in_0.001', 'osm_shops_points_in_0.005',\n",
      "       'osm_shops_points_in_0.0075', 'osm_shops_points_in_0.01',\n",
      "       'osm_subway_closest_dist', 'osm_transport_stop_points_in_0.005',\n",
      "       'osm_transport_stop_points_in_0.0075',\n",
      "       'osm_transport_stop_points_in_0.01', 'reform_house_population_1000',\n",
      "       'Москва'],\n",
      "      dtype='object')\n"
     ]
    }
   ],
   "source": [
    "from sklearn.feature_selection import SelectKBest, f_regression\n",
    "X_reg=train\n",
    "y_reg=Y_train\n",
    "\n",
    "kb = SelectKBest(score_func=f_regression, k=45)\n",
    "kb.fit(X_reg, y_reg)\n",
    "features_list = X_reg.columns\n",
    "chosen_list = features_list[kb.get_support()]\n",
    "print(features_list[kb.get_support()])"
   ]
  },
  {
   "cell_type": "code",
   "execution_count": 8,
   "metadata": {},
   "outputs": [],
   "source": [
    "#Превращаем в массивы\n",
    "y_train = Y_train.values\n",
    "train = train[chosen_list]\n",
    "x_train = train.values\n",
    "test = test[chosen_list]\n",
    "x_test = test.values\n",
    "\n",
    "\n",
    "# Делим на тренировочную и тестовую\n",
    "from sklearn.model_selection import train_test_split\n",
    "x_t1,x_t2,y_t1,y_t2 = train_test_split(x_train, y_train, test_size=0.7, random_state=0)\n"
   ]
  },
  {
   "cell_type": "code",
   "execution_count": 9,
   "metadata": {},
   "outputs": [
    {
     "name": "stdout",
     "output_type": "stream",
     "text": [
      "[ 35274.83353826 315583.13040515  44368.15812337 ...  93308.60447989\n",
      " 417251.63630865 129459.65087897]\n",
      "[215297.73127696  32731.26940606  56683.3944445  ... 150422.93322316\n",
      " 208828.34781288  52048.08189579]\n"
     ]
    }
   ],
   "source": [
    "from sklearn.linear_model import LinearRegression\n",
    "ml = LinearRegression()\n",
    "ml.fit(x_t1, y_t1)\n",
    "y_pred=ml.predict(x_t2)\n",
    "y_pred_test=ml.predict(x_test)\n",
    "print(y_pred)\n",
    "print(y_pred_test)"
   ]
  },
  {
   "cell_type": "code",
   "execution_count": 10,
   "metadata": {},
   "outputs": [
    {
     "name": "stdout",
     "output_type": "stream",
     "text": [
      "222.64043811647997\n",
      "0.4544355215791551\n"
     ]
    }
   ],
   "source": [
    "#оценка погрешности\n",
    "import numpy as np\n",
    "def mean_absolute_percentage_error(y_true, y_pred):\n",
    "    return np.mean(np.abs((y_true - y_pred) / y_true)) * 100\n",
    "print(mean_absolute_percentage_error(y_t2,y_pred))\n",
    "from sklearn.metrics import r2_score\n",
    "print(r2_score(y_t2,y_pred))"
   ]
  },
  {
   "cell_type": "code",
   "execution_count": 11,
   "metadata": {},
   "outputs": [],
   "source": [
    "test['per_square_meter_price'] = y_pred_test/3"
   ]
  },
  {
   "cell_type": "code",
   "execution_count": 12,
   "metadata": {},
   "outputs": [],
   "source": [
    "answer = test['per_square_meter_price']\n",
    "answer.to_csv('lab4.csv')"
   ]
  }
 ],
 "metadata": {
  "kernelspec": {
   "display_name": "Python 3",
   "language": "python",
   "name": "python3"
  },
  "language_info": {
   "codemirror_mode": {
    "name": "ipython",
    "version": 3
   },
   "file_extension": ".py",
   "mimetype": "text/x-python",
   "name": "python",
   "nbconvert_exporter": "python",
   "pygments_lexer": "ipython3",
   "version": "3.8.5"
  }
 },
 "nbformat": 4,
 "nbformat_minor": 4
}
